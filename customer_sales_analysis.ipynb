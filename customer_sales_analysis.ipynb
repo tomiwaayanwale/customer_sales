{
 "cells": [
  {
   "cell_type": "markdown",
   "id": "1c382e98",
   "metadata": {},
   "source": [
    "# Exploratory data Analysis\n",
    "### Project Objective\n",
    "The primary objective of this project is to perform an exploratory data analysis (EDA) on transaction and customer behavior data. The aim is \n",
    "to uncover insights into purchasing patterns, identify potential outliers, and summarize key statistics that can inform business decisions."
   ]
  },
  {
   "cell_type": "code",
   "execution_count": null,
   "id": "91467597",
   "metadata": {},
   "outputs": [],
   "source": [
    "### importing libraries\n",
    "\n",
    "# data  wrangling\n",
    "import pandas as pd\n",
    "import numpy as np\n",
    "\n",
    "\n",
    "# data visulization\n",
    "import matplotlib.pyplot as plt\n",
    "import seaborn as sns\n",
    "import plotly.express as px\n",
    "\n",
    "\n",
    "\n",
    "# set global customization\n",
    "sns.set_style('darkgrid')\n",
    "sns.set_palette('husl')"
   ]
  },
  {
   "cell_type": "code",
   "execution_count": null,
   "id": "9dd1fc06",
   "metadata": {},
   "outputs": [],
   "source": [
    "# Load the transaction data from the Excel file and the customer data from the CSV file\n",
    "transaction_data = pd.read_excel('QVI_transaction_data.xlsx')\n",
    "customer_data = pd.read_csv('QVI_purchase_behaviour.csv')\n",
    "\n",
    "# Display the first few rows of each dataset to understand their structure\n",
    "transaction_data_head = transaction_data.head()\n",
    "customer_data_head = customer_data.head()\n",
    "\n",
    "transaction_data_head, customer_data_head\n"
   ]
  },
  {
   "cell_type": "code",
   "execution_count": null,
   "id": "778ae569",
   "metadata": {},
   "outputs": [],
   "source": [
    "# Check for missing values and basic statistics in the transaction data\n",
    "transaction_data_info = transaction_data.info()\n",
    "transaction_data_missing = transaction_data.isnull().sum()\n",
    "transaction_data_stats = transaction_data.describe()\n",
    "\n",
    "# Check for missing values and basic statistics in the customer data\n",
    "customer_data_info = customer_data.info()\n",
    "customer_data_missing = customer_data.isnull().sum()\n",
    "customer_data_stats = customer_data.describe()\n",
    "\n",
    "transaction_data_info, transaction_data_missing, transaction_data_stats, customer_data_info, customer_data_missing, \n",
    "customer_data_stats\n"
   ]
  },
  {
   "cell_type": "code",
   "execution_count": null,
   "id": "5ea32d94",
   "metadata": {},
   "outputs": [],
   "source": [
    "# Investigate potential outliers in PROD_QTY and TOT_SALES\n",
    "outliers_prod_qty = transaction_data[transaction_data['PROD_QTY'] > 10]\n",
    "outliers_tot_sales = transaction_data[transaction_data['TOT_SALES'] > 100]\n",
    "\n",
    "# Count of potential outliers\n",
    "outliers_prod_qty_count = outliers_prod_qty.shape[0]\n",
    "outliers_tot_sales_count = outliers_tot_sales.shape[0]\n",
    "\n",
    "outliers_prod_qty_count, outliers_tot_sales_count"
   ]
  },
  {
   "cell_type": "code",
   "execution_count": null,
   "id": "a6f0bc9e",
   "metadata": {},
   "outputs": [],
   "source": [
    "# Create a box plot for PROD_QTY to determine outlier\n",
    "plt.figure(figsize=(12, 6))\n",
    "\n",
    "plt.subplot(1, 2, 2)\n",
    "plt.boxplot(transaction_data['PROD_QTY'], vert=False)\n",
    "plt.title('Box Plot of Product Quantity (PROD_QTY)')\n",
    "plt.xlabel('Quantity')\n",
    "\n",
    "\n",
    "# Display the plots\n",
    "plt.tight_layout()\n",
    "plt.show()\n"
   ]
  },
  {
   "cell_type": "code",
   "execution_count": null,
   "id": "f2d17a83",
   "metadata": {},
   "outputs": [],
   "source": [
    "\n",
    "# Create a box plot for TOT_SALES\n",
    "plt.subplot(1, 2, 2)\n",
    "plt.boxplot(transaction_data['TOT_SALES'], vert=False)\n",
    "plt.title('Box Plot of Total Sales (TOT_SALES)')\n",
    "plt.xlabel('Total Sales')\n",
    "\n",
    "# Display the plots\n",
    "plt.tight_layout()\n",
    "plt.show()\n",
    "\n"
   ]
  },
  {
   "cell_type": "code",
   "execution_count": null,
   "id": "d391146c",
   "metadata": {},
   "outputs": [],
   "source": [
    "# Calculate total sales\n",
    "total_sales = transaction_data['TOT_SALES'].sum()\n",
    "\n",
    "print(f\"Total Sales: ${total_sales:.2f}\")"
   ]
  },
  {
   "cell_type": "code",
   "execution_count": null,
   "id": "047acdcd",
   "metadata": {},
   "outputs": [],
   "source": [
    "# Group by product and sum sales\n",
    "sales_by_product = transaction_data.groupby('PROD_NAME')['TOT_SALES'].sum().sort_values(ascending=False)\n",
    "sales_by_product"
   ]
  },
  {
   "cell_type": "code",
   "execution_count": null,
   "id": "dfb01242",
   "metadata": {},
   "outputs": [],
   "source": [
    "# Display top 10 products\n",
    "top_10_products = sales_by_product.head(10)\n",
    "print(top_10_products)"
   ]
  },
  {
   "cell_type": "code",
   "execution_count": null,
   "id": "d8078c8e",
   "metadata": {},
   "outputs": [],
   "source": [
    "# Plot the top 10 products\n",
    "top_10_products.plot(kind='bar', title='Top 10 Products by Sales', ylabel='Total Sales')\n",
    "plt.show()"
   ]
  },
  {
   "cell_type": "code",
   "execution_count": null,
   "id": "166e7ed3",
   "metadata": {},
   "outputs": [],
   "source": [
    "# Merge transaction and customer data\n",
    "merged_data = pd.merge(transaction_data, customer_data, on='LYLTY_CARD_NBR')\n",
    "merged_data.head()"
   ]
  },
  {
   "cell_type": "code",
   "execution_count": null,
   "id": "02360ed3",
   "metadata": {},
   "outputs": [],
   "source": [
    "# Group by LIFESTAGE and PREMIUM_CUSTOMER, and sum sales\n",
    "sales_by_segment = merged_data.groupby(['LIFESTAGE', 'PREMIUM_CUSTOMER'])['TOT_SALES'].sum().reset_index()\n",
    "sales_by_segment"
   ]
  },
  {
   "cell_type": "code",
   "execution_count": null,
   "id": "69d45cd0",
   "metadata": {},
   "outputs": [],
   "source": [
    "# Create a bar plot using plotly.express\n",
    "fig = px.bar(sales_by_segment, \n",
    "             x='LIFESTAGE', \n",
    "             y='TOT_SALES', \n",
    "             color='PREMIUM_CUSTOMER', \n",
    "             title='Sales by Customer Segment',\n",
    "             labels={'TOT_SALES':'Total Sales'},\n",
    "             barmode='group')\n",
    "\n",
    "# Show the plot\n",
    "fig.show()\n"
   ]
  },
  {
   "cell_type": "code",
   "execution_count": null,
   "id": "732b000f",
   "metadata": {},
   "outputs": [],
   "source": [
    "# Group by store and sum sales\n",
    "sales_by_store = transaction_data.groupby('STORE_NBR')['TOT_SALES'].sum().sort_values(ascending=False)\n",
    "sales_by_store"
   ]
  },
  {
   "cell_type": "code",
   "execution_count": null,
   "id": "1b6a7f8c",
   "metadata": {},
   "outputs": [],
   "source": [
    "# Display top 10 stores\n",
    "top_10_stores = sales_by_store.head(10)\n",
    "print(top_10_stores)\n"
   ]
  },
  {
   "cell_type": "code",
   "execution_count": null,
   "id": "337c761f",
   "metadata": {},
   "outputs": [],
   "source": [
    "# Plot the top 10 stores\n",
    "top_10_stores.plot(kind='bar', title='Top 10 Stores by Sales', ylabel='Total Sales')\n",
    "plt.show()\n"
   ]
  },
  {
   "cell_type": "code",
   "execution_count": null,
   "id": "b402bf06",
   "metadata": {},
   "outputs": [],
   "source": [
    "# Calculate average sales per transaction\n",
    "avg_sales_per_txn = transaction_data['TOT_SALES'].mean()\n",
    "print(f\"Average Sales per Transaction: ${avg_sales_per_txn:.2f}\")"
   ]
  },
  {
   "cell_type": "markdown",
   "id": "1c6d4f15",
   "metadata": {},
   "source": [
    "### identifing  trends"
   ]
  },
  {
   "cell_type": "code",
   "execution_count": null,
   "id": "1d972b8c",
   "metadata": {},
   "outputs": [],
   "source": [
    "# Convert the DATE column to a datetime format\n",
    "transaction_data['DATE'] = pd.to_datetime(transaction_data['DATE'], unit='D', origin='1899-12-30')\n"
   ]
  },
  {
   "cell_type": "code",
   "execution_count": null,
   "id": "7dfa8ed7",
   "metadata": {},
   "outputs": [],
   "source": [
    "# Group by date and sum sales\n",
    "sales_over_time = transaction_data.groupby('DATE')['TOT_SALES'].sum().reset_index()\n",
    "sales_over_time"
   ]
  },
  {
   "cell_type": "code",
   "execution_count": null,
   "id": "87b2a269",
   "metadata": {},
   "outputs": [],
   "source": [
    "# Create a line plot using plotly.express\n",
    "fig = px.line(sales_over_time, \n",
    "              x='DATE', \n",
    "              y='TOT_SALES', \n",
    "              title='Sales Trends Over Time',\n",
    "              labels={'TOT_SALES':'Total Sales'})\n",
    "\n",
    "# Show the plot\n",
    "fig.show()\n"
   ]
  },
  {
   "cell_type": "markdown",
   "id": "ab41134c",
   "metadata": {},
   "source": [
    "## Conclusion\n",
    "The analysis successfully identified key purchasing patterns and highlighted significant outliers in product quantity and total sales. These insights provide a clearer understanding of customer behavior and product performance, which can guide strategic decisions in inventory management and marketing."
   ]
  },
  {
   "cell_type": "code",
   "execution_count": null,
   "id": "cda48c8c",
   "metadata": {},
   "outputs": [],
   "source": []
  }
 ],
 "metadata": {
  "kernelspec": {
   "display_name": "Python 3 (ipykernel)",
   "language": "python",
   "name": "python3"
  },
  "language_info": {
   "codemirror_mode": {
    "name": "ipython",
    "version": 3
   },
   "file_extension": ".py",
   "mimetype": "text/x-python",
   "name": "python",
   "nbconvert_exporter": "python",
   "pygments_lexer": "ipython3",
   "version": "3.11.7"
  }
 },
 "nbformat": 4,
 "nbformat_minor": 5
}
